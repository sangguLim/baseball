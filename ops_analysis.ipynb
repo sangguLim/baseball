{
 "cells": [
  {
   "cell_type": "code",
   "execution_count": null,
   "metadata": {},
   "outputs": [],
   "source": [
    "# matplotlib 한글 출력 가능하도록 만들기\n",
    "from matplotlib import font_manager, rc\n",
    "font_name = font_manager.FontProperties(fname=\"c:/Windows/Fonts/malgun.ttf\").get_name()\n",
    "rc('font', family=font_name)"
   ]
  },
  {
   "cell_type": "code",
   "execution_count": null,
   "metadata": {},
   "outputs": [],
   "source": [
    "# 데이터 크롤링 모듈\n",
    "from selenium import webdriver\n",
    "from bs4 import BeautifulSoup\n",
    "import re"
   ]
  },
  {
   "cell_type": "code",
   "execution_count": null,
   "metadata": {},
   "outputs": [],
   "source": [
    "# 데이터 분석 모듈\n",
    "import pandas as pd\n",
    "import numpy as np\n",
    "import matplotlib.pyplot as plt\n",
    "import seaborn as sns\n",
    "import time\n",
    "from datetime import datetime"
   ]
  },
  {
   "cell_type": "code",
   "execution_count": null,
   "metadata": {},
   "outputs": [],
   "source": [
    "submission = pd.read_csv(\"data/submission.csv\")\n",
    "reg = pd.read_csv(\"data/Regular_Season_Batter.csv\")"
   ]
  },
  {
   "cell_type": "code",
   "execution_count": null,
   "metadata": {},
   "outputs": [],
   "source": [
    "# 가상 웹드라이버 불러오기\n",
    "# chromedriver.exe가 크롬 버젼에 맞게 설치 되어 있어야 함\n",
    "driver = webdriver.Chrome('webdrivers/chromedriver.exe')"
   ]
  },
  {
   "cell_type": "code",
   "execution_count": null,
   "metadata": {},
   "outputs": [],
   "source": [
    "# 크롤링\n",
    "for i in range(86):\n",
    "    \n",
    "    # 1982년 부터 2018년 까지 statiz에 기록된 선수들 필터링 (총 8558명)\n",
    "    url = 'http://www.statiz.co.kr/stat.php?mid=stat&re=0&ys=1982&ye=2018&sn=100&pa={}'.format(i*100)\n",
    "    \n",
    "    driver.get(url)\n",
    "    driver.implicitly_wait(5)\n",
    "    \n",
    "    html = driver.find_element_by_xpath('//*[@id=\"mytable\"]/tbody').get_attribute(\"innerHTML\") #기록 table을 str형태로 저장\n",
    "    soup = BeautifulSoup(html, 'html.parser') #str 객체를 BeautifulSoup 객체로 변경\n",
    "    \n",
    "    temp = [i.text.strip() for i in soup.findAll(\"tr\")] #tr 태그에서, text만 저장하기\n",
    "    temp = pd.Series(temp) #list 객체에서 series 객체로 변경\n",
    "    \n",
    "    #'순'이나 'W'로 시작하는 row 제거\n",
    "    # 즉, 선수별 기록만 남기고, index를 reset 해주기\n",
    "    temp = temp[~temp.str.match(\"[순W]\")].reset_index(drop=True) \n",
    "    \n",
    "    temp = temp.apply(lambda x: pd.Series(x.split(' '))) #띄어쓰기 기준으로 나눠서 dataframe으로 변경\n",
    "    \n",
    "    #선수 팀 정보 이후 첫번째 기록과는 space 하나로 구분, 그 이후로는 space 두개로 구분이 되어 있음 \n",
    "    #그래서 space 하나로 구분을 시키면, 빈 column들이 존재 하는데, 해당 column들 제거 \n",
    "    temp = temp.replace('', np.nan).dropna(axis=1) \n",
    "    \n",
    "    #WAR 정보가 들어간 column이 2개 있다. (index가 1인 column과, 제일 마지막 column)\n",
    "    #그 중에서 index가 1인 columm 제거 \n",
    "    temp = temp.drop(1, axis=1)\n",
    "    \n",
    "    #선수 이름 앞의 숫자 제거\n",
    "    temp[0] = temp[0].str.replace(\"^\\d+\", '')\n",
    "\n",
    "    # 선수들의 생일 정보가 담긴 tag들 가지고 오기\n",
    "    birth = [i.find(\"a\") for i in soup.findAll('tr') if 'birth' in i.find('a').attrs['href']]\n",
    "    \n",
    "    # tag내에서, 생일 날짜만 추출하기 \n",
    "    p = re.compile(\"\\d{4}\\-\\d{2}\\-\\d{2}\")\n",
    "    birth = [p.findall(i.attrs['href'])[0] for i in birth]\n",
    "    \n",
    "    # 생일 column 추가\n",
    "    temp['생일'] = birth\n",
    "    \n",
    "    # page별 완성된 dataframe을 계속해서 result에 추가 시켜주기 \n",
    "    if i == 0:\n",
    "        result = temp\n",
    "    else:\n",
    "        result = result.append(temp)\n",
    "        result = result.reset_index(drop=True)\n",
    "        \n",
    "    print(i, \"완료\")\n",
    "        \n",
    "#column 명 정보 저장        \n",
    "columns = ['선수'] + [i.text for i in soup.findAll(\"tr\")[0].findAll(\"th\")][4:-3] + ['타율', '출루', '장타', 'OPS', 'wOBA', 'wRC+', 'WAR+', '생일']\n",
    "\n",
    "#column 명 추가\n",
    "result.columns = columns\n",
    "\n",
    "#webdriver 종료\n",
    "driver.close()\n",
    "\n",
    "print(\"최종 완료\")"
   ]
  },
  {
   "cell_type": "code",
   "execution_count": null,
   "metadata": {},
   "outputs": [],
   "source": [
    "result.shape"
   ]
  },
  {
   "cell_type": "code",
   "execution_count": null,
   "metadata": {},
   "outputs": [],
   "source": [
    "#결과값 저장해두기\n",
    "result.to_csv(\"data/statiz_origin.csv\")"
   ]
  }
 ],
 "metadata": {
  "kernelspec": {
   "display_name": "Python 3",
   "language": "python",
   "name": "python3"
  },
  "language_info": {
   "name": "python",
   "version": "3.10.12"
  },
  "orig_nbformat": 4
 },
 "nbformat": 4,
 "nbformat_minor": 2
}
