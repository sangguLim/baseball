{
 "cells": [
  {
   "cell_type": "markdown",
   "metadata": {},
   "source": [
    "### 작업 순서\n",
    "1. selenium 설치\n",
    "    - ```pip install selenium```\n",
    "    - ```pip install requests```\n",
    "    - ```pip install beautifulsoup4```\n",
    "    - ```pip install webdriver_manager```\n",
    "2. chrome driver install\n",
    "    - chrome://version 접속하여, 본인 버전 확인\n",
    "    - https://developer.chrome.com/docs/chromedriver/downloads?hl=ko\n",
    "        - 상기 홈페이지에서 버전에 맞는 driver 설치\n",
    "        - 맞는 version이 없다면 최신 version 설치 사이트\n",
    "            - https://googlechromelabs.github.io/chrome-for-testing/\n",
    "\n",
    "### 참고 문서\n",
    "- 작업 순서\n",
    "    - https://cansweep.tistory.com/53\n",
    "- 에러/조치 대응\n",
    "    - 셀레니움 3 version으로 가이드되어 있다면, 4 version으로 함수 대체\n",
    "        - https://kimflstudio.tistory.com/entry/%ED%8C%8C%EC%9D%B4%EC%8D%AC-selenium-4%EC%85%80%EB%A0%88%EB%8B%88%EC%9B%804-%EC%B5%9C%EC%8B%A0-%EB%B2%84%EC%A0%84-findelement-%EC%82%AC%EC%9A%A9%EB%B2%95-%EB%A7%88%EC%8A%A4%ED%84%B0\n",
    "        - https://hobbylists.tistory.com/entry/%ED%8C%8C%EC%9D%B4%EC%8D%AC-%EC%85%80%EB%A0%88%EB%8B%88%EC%9B%80-findelementbyclassname-%EC%82%AD%EC%A0%9C%EC%9D%B4%EC%8A%88%EA%B4%80%EB%A0%A8-%EB%B0%8F-%EB%8C%80%EC%B2%B4%EB%B0%A9%EB%B2%95\n",
    "    - webdriver_manager install\n",
    "        - https://velog.io/@dlalscjf94/Python-%EC%85%80%EB%A0%88%EB%8B%88%EC%9B%80-%ED%81%AC%EB%A1%A4%EB%A7%81-%EC%8B%9C-%EB%A7%A4%EC%9A%B0-%EC%9C%A0%EC%9A%A9%ED%95%9C-%EB%9D%BC%EC%9D%B4%EB%B8%8C%EB%9F%AC%EB%A6%ACwebdrivermanager"
   ]
  },
  {
   "cell_type": "code",
   "execution_count": 10,
   "metadata": {},
   "outputs": [],
   "source": [
    "from selenium import webdriver\n",
    "from selenium.webdriver.common.by import By\n",
    "from selenium.webdriver.chrome.options import Options\n",
    "from selenium.webdriver.chrome.service import Service\n",
    "from webdriver_manager.chrome import ChromeDriverManager\n",
    "import time\n",
    "import requests\n",
    "from bs4 import BeautifulSoup"
   ]
  },
  {
   "cell_type": "code",
   "execution_count": 16,
   "metadata": {},
   "outputs": [
    {
     "ename": "WebDriverException",
     "evalue": "Message: unknown error: net::ERR_NAME_NOT_RESOLVED\n  (Session info: chrome=126.0.6478.182)\nStacktrace:\n\tGetHandleVerifier [0x0043C203+27395]\n\t(No symbol) [0x003D3E04]\n\t(No symbol) [0x002D1B7F]\n\t(No symbol) [0x002CA205]\n\t(No symbol) [0x002BF219]\n\t(No symbol) [0x002BE003]\n\t(No symbol) [0x002BDBB3]\n\t(No symbol) [0x002BD99E]\n\t(No symbol) [0x002BBDE9]\n\t(No symbol) [0x002BC2AB]\n\t(No symbol) [0x002D4364]\n\t(No symbol) [0x0034D297]\n\t(No symbol) [0x0033399C]\n\t(No symbol) [0x0034CB24]\n\t(No symbol) [0x00333736]\n\t(No symbol) [0x00307541]\n\t(No symbol) [0x003080BD]\n\tGetHandleVerifier [0x006F3AB3+2876339]\n\tGetHandleVerifier [0x00747F7D+3221629]\n\tGetHandleVerifier [0x004BD674+556916]\n\tGetHandleVerifier [0x004C478C+585868]\n\t(No symbol) [0x003DCE44]\n\t(No symbol) [0x003D9858]\n\t(No symbol) [0x003D99F7]\n\t(No symbol) [0x003CBF4E]\n\tBaseThreadInitThunk [0x76037BA9+25]\n\tRtlInitializeExceptionChain [0x776CC10B+107]\n\tRtlClearBits [0x776CC08F+191]\n",
     "output_type": "error",
     "traceback": [
      "\u001b[1;31m---------------------------------------------------------------------------\u001b[0m",
      "\u001b[1;31mWebDriverException\u001b[0m                        Traceback (most recent call last)",
      "Cell \u001b[1;32mIn[16], line 27\u001b[0m\n\u001b[0;32m     25\u001b[0m url \u001b[39m=\u001b[39m \u001b[39mf\u001b[39m\u001b[39m'\u001b[39m\u001b[39mhttps://m.sports.naver.com/game/\u001b[39m\u001b[39m{\u001b[39;00mdatadate\u001b[39m}\u001b[39;00m\u001b[39m{\u001b[39;00maway_team\u001b[39m}\u001b[39;00m\u001b[39m{\u001b[39;00mhome_team\u001b[39m}\u001b[39;00m\u001b[39m0\u001b[39m\u001b[39m{\u001b[39;00myears\u001b[39m}\u001b[39;00m\u001b[39m/record\u001b[39m\u001b[39m'\u001b[39m\n\u001b[0;32m     26\u001b[0m url \u001b[39m=\u001b[39m \u001b[39m'\u001b[39m\u001b[39mhttps://m.sports.news.naver.com/kbaseball/schedule/category=kbo\u001b[39m\u001b[39m'\u001b[39m\n\u001b[1;32m---> 27\u001b[0m driver\u001b[39m.\u001b[39;49mget(url)\n\u001b[0;32m     29\u001b[0m \u001b[39m# 일정 테이블에서 기아 클릭하기\u001b[39;00m\n\u001b[0;32m     30\u001b[0m driver\u001b[39m.\u001b[39mfind_element(By\u001b[39m.\u001b[39mCLASS_NAME,\u001b[39m'\u001b[39m\u001b[39mTeamTab_team__iK9ii\u001b[39m\u001b[39m'\u001b[39m)\u001b[39m.\u001b[39mfind_element(By\u001b[39m.\u001b[39mLINK_TEXT, \u001b[39m\"\u001b[39m\u001b[39mKIA\u001b[39m\u001b[39m\"\u001b[39m)\u001b[39m.\u001b[39mclick()\n",
      "File \u001b[1;32mc:\\Users\\USER\\anaconda3\\envs\\lim_env\\lib\\site-packages\\selenium\\webdriver\\remote\\webdriver.py:354\u001b[0m, in \u001b[0;36mWebDriver.get\u001b[1;34m(self, url)\u001b[0m\n\u001b[0;32m    352\u001b[0m \u001b[39mdef\u001b[39;00m \u001b[39mget\u001b[39m(\u001b[39mself\u001b[39m, url: \u001b[39mstr\u001b[39m) \u001b[39m-\u001b[39m\u001b[39m>\u001b[39m \u001b[39mNone\u001b[39;00m:\n\u001b[0;32m    353\u001b[0m \u001b[39m    \u001b[39m\u001b[39m\"\"\"Loads a web page in the current browser session.\"\"\"\u001b[39;00m\n\u001b[1;32m--> 354\u001b[0m     \u001b[39mself\u001b[39;49m\u001b[39m.\u001b[39;49mexecute(Command\u001b[39m.\u001b[39;49mGET, {\u001b[39m\"\u001b[39;49m\u001b[39murl\u001b[39;49m\u001b[39m\"\u001b[39;49m: url})\n",
      "File \u001b[1;32mc:\\Users\\USER\\anaconda3\\envs\\lim_env\\lib\\site-packages\\selenium\\webdriver\\remote\\webdriver.py:345\u001b[0m, in \u001b[0;36mWebDriver.execute\u001b[1;34m(self, driver_command, params)\u001b[0m\n\u001b[0;32m    343\u001b[0m response \u001b[39m=\u001b[39m \u001b[39mself\u001b[39m\u001b[39m.\u001b[39mcommand_executor\u001b[39m.\u001b[39mexecute(driver_command, params)\n\u001b[0;32m    344\u001b[0m \u001b[39mif\u001b[39;00m response:\n\u001b[1;32m--> 345\u001b[0m     \u001b[39mself\u001b[39;49m\u001b[39m.\u001b[39;49merror_handler\u001b[39m.\u001b[39;49mcheck_response(response)\n\u001b[0;32m    346\u001b[0m     response[\u001b[39m\"\u001b[39m\u001b[39mvalue\u001b[39m\u001b[39m\"\u001b[39m] \u001b[39m=\u001b[39m \u001b[39mself\u001b[39m\u001b[39m.\u001b[39m_unwrap_value(response\u001b[39m.\u001b[39mget(\u001b[39m\"\u001b[39m\u001b[39mvalue\u001b[39m\u001b[39m\"\u001b[39m, \u001b[39mNone\u001b[39;00m))\n\u001b[0;32m    347\u001b[0m     \u001b[39mreturn\u001b[39;00m response\n",
      "File \u001b[1;32mc:\\Users\\USER\\anaconda3\\envs\\lim_env\\lib\\site-packages\\selenium\\webdriver\\remote\\errorhandler.py:229\u001b[0m, in \u001b[0;36mErrorHandler.check_response\u001b[1;34m(self, response)\u001b[0m\n\u001b[0;32m    227\u001b[0m         alert_text \u001b[39m=\u001b[39m value[\u001b[39m\"\u001b[39m\u001b[39malert\u001b[39m\u001b[39m\"\u001b[39m]\u001b[39m.\u001b[39mget(\u001b[39m\"\u001b[39m\u001b[39mtext\u001b[39m\u001b[39m\"\u001b[39m)\n\u001b[0;32m    228\u001b[0m     \u001b[39mraise\u001b[39;00m exception_class(message, screen, stacktrace, alert_text)  \u001b[39m# type: ignore[call-arg]  # mypy is not smart enough here\u001b[39;00m\n\u001b[1;32m--> 229\u001b[0m \u001b[39mraise\u001b[39;00m exception_class(message, screen, stacktrace)\n",
      "\u001b[1;31mWebDriverException\u001b[0m: Message: unknown error: net::ERR_NAME_NOT_RESOLVED\n  (Session info: chrome=126.0.6478.182)\nStacktrace:\n\tGetHandleVerifier [0x0043C203+27395]\n\t(No symbol) [0x003D3E04]\n\t(No symbol) [0x002D1B7F]\n\t(No symbol) [0x002CA205]\n\t(No symbol) [0x002BF219]\n\t(No symbol) [0x002BE003]\n\t(No symbol) [0x002BDBB3]\n\t(No symbol) [0x002BD99E]\n\t(No symbol) [0x002BBDE9]\n\t(No symbol) [0x002BC2AB]\n\t(No symbol) [0x002D4364]\n\t(No symbol) [0x0034D297]\n\t(No symbol) [0x0033399C]\n\t(No symbol) [0x0034CB24]\n\t(No symbol) [0x00333736]\n\t(No symbol) [0x00307541]\n\t(No symbol) [0x003080BD]\n\tGetHandleVerifier [0x006F3AB3+2876339]\n\tGetHandleVerifier [0x00747F7D+3221629]\n\tGetHandleVerifier [0x004BD674+556916]\n\tGetHandleVerifier [0x004C478C+585868]\n\t(No symbol) [0x003DCE44]\n\t(No symbol) [0x003D9858]\n\t(No symbol) [0x003D99F7]\n\t(No symbol) [0x003CBF4E]\n\tBaseThreadInitThunk [0x76037BA9+25]\n\tRtlInitializeExceptionChain [0x776CC10B+107]\n\tRtlClearBits [0x776CC08F+191]\n"
     ]
    }
   ],
   "source": [
    "# 팀코드\n",
    "\"\"\"\n",
    "기아: HT (해태)\n",
    "한화: HH\n",
    "롯데: LT\n",
    "삼성: SS\n",
    "엘지: LG\n",
    "두산: OB (OB베어스)\n",
    "엔씨: NC\n",
    "키움: WO (우리히어로즈)\n",
    "SSG: SK (SK와이번스)\n",
    "KT: KT\n",
    "\"\"\"\n",
    "datadate='20240818'\n",
    "years='2024'\n",
    "away_team= 'HT'\n",
    "home_team= 'LG'\n",
    "\n",
    "# browser = webdriver.Chrome()\n",
    "options = Options()\n",
    "options.add_experimental_option(\"detach\", True)\n",
    "service = Service(ChromeDriverManager().install())\n",
    "driver = webdriver.Chrome(service=service, options=options)\n",
    "\n",
    "url = f'https://m.sports.naver.com/game/{datadate}{away_team}{home_team}0{years}/record'\n",
    "url = 'https://m.sports.news.naver.com/kbaseball/schedule/index?category=kbo'\n",
    "driver.get(url)\n",
    "\n",
    "# 일정 테이블에서 기아 클릭하기\n",
    "driver.find_element(By.CLASS_NAME,'TeamTab_team__iK9ii').find_element(By.LINK_TEXT, \"KIA\").click()"
   ]
  },
  {
   "cell_type": "markdown",
   "metadata": {},
   "source": [
    "### 셀레니움4 에러 조치\n",
    "- InvalidArgumentException , NoSuchElementException 에러 조치에 대한 문서\n",
    "    - https://hobbylists.tistory.com/entry/%ED%8C%8C%EC%9D%B4%EC%8D%AC-%EC%85%80%EB%A0%88%EB%8B%88%EC%9B%80-findelement%EC%9D%98-InvalidArgumentException-NoSuchElementException-%EC%97%90%EB%9F%AC-%EC%9D%B4%EC%8A%88-%EA%B4%80%EB%A0%A8\n"
   ]
  }
 ],
 "metadata": {
  "kernelspec": {
   "display_name": "lim_env",
   "language": "python",
   "name": "python3"
  },
  "language_info": {
   "codemirror_mode": {
    "name": "ipython",
    "version": 3
   },
   "file_extension": ".py",
   "mimetype": "text/x-python",
   "name": "python",
   "nbconvert_exporter": "python",
   "pygments_lexer": "ipython3",
   "version": "3.8.17"
  },
  "orig_nbformat": 4
 },
 "nbformat": 4,
 "nbformat_minor": 2
}
